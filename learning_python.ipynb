{
  "nbformat": 4,
  "nbformat_minor": 0,
  "metadata": {
    "colab": {
      "name": "learning-python.ipynb",
      "provenance": [],
      "authorship_tag": "ABX9TyPi7m/lBSR2jv53CUrgUDsh",
      "include_colab_link": true
    },
    "kernelspec": {
      "name": "python3",
      "display_name": "Python 3"
    }
  },
  "cells": [
    {
      "cell_type": "markdown",
      "metadata": {
        "id": "view-in-github",
        "colab_type": "text"
      },
      "source": [
        "<a href=\"https://colab.research.google.com/github/Alejo616/phyton-steps/blob/master/learning_python.ipynb\" target=\"_parent\"><img src=\"https://colab.research.google.com/assets/colab-badge.svg\" alt=\"Open In Colab\"/></a>"
      ]
    },
    {
      "cell_type": "code",
      "metadata": {
        "id": "Sm9OZDIA_7dM",
        "colab_type": "code",
        "colab": {
          "base_uri": "https://localhost:8080/",
          "height": 35
        },
        "outputId": "40ebede3-449d-4d38-d6c2-884fb090417b"
      },
      "source": [
        "#! /usr/bin/python\n",
        "\n",
        "#This is a comment\n",
        "print('Hello World!')"
      ],
      "execution_count": 1,
      "outputs": [
        {
          "output_type": "stream",
          "text": [
            "Hello World!\n"
          ],
          "name": "stdout"
        }
      ]
    },
    {
      "cell_type": "code",
      "metadata": {
        "id": "FiGYZofsABv0",
        "colab_type": "code",
        "colab": {
          "base_uri": "https://localhost:8080/",
          "height": 35
        },
        "outputId": "f652cf9c-62ab-45e8-eea8-7aa5d02e2949"
      },
      "source": [
        "# print everything\n",
        "print ('Hellow world!')"
      ],
      "execution_count": 2,
      "outputs": [
        {
          "output_type": "stream",
          "text": [
            "Hellow world!\n"
          ],
          "name": "stdout"
        }
      ]
    },
    {
      "cell_type": "code",
      "metadata": {
        "id": "tkZ_0MdUAIpt",
        "colab_type": "code",
        "colab": {
          "base_uri": "https://localhost:8080/",
          "height": 35
        },
        "outputId": "f34fce76-eb31-405e-ea81-642ffd8df7b9"
      },
      "source": [
        "# show the latest operation\n",
        "3**4\n",
        "3^2"
      ],
      "execution_count": 3,
      "outputs": [
        {
          "output_type": "execute_result",
          "data": {
            "text/plain": [
              "1"
            ]
          },
          "metadata": {
            "tags": []
          },
          "execution_count": 3
        }
      ]
    },
    {
      "cell_type": "code",
      "metadata": {
        "id": "X7CpRPPwAbYL",
        "colab_type": "code",
        "colab": {
          "base_uri": "https://localhost:8080/",
          "height": 35
        },
        "outputId": "8df450e0-7fd7-49ad-b6c1-1f46fb88880e"
      },
      "source": [
        "# power\n",
        "3**4"
      ],
      "execution_count": 4,
      "outputs": [
        {
          "output_type": "execute_result",
          "data": {
            "text/plain": [
              "81"
            ]
          },
          "metadata": {
            "tags": []
          },
          "execution_count": 4
        }
      ]
    },
    {
      "cell_type": "code",
      "metadata": {
        "id": "xSlzCXsRAgiT",
        "colab_type": "code",
        "colab": {
          "base_uri": "https://localhost:8080/",
          "height": 35
        },
        "outputId": "c26c8c97-652c-4e95-d0fa-e758757b28c6"
      },
      "source": [
        "# still don't know\n",
        "3^2"
      ],
      "execution_count": 5,
      "outputs": [
        {
          "output_type": "execute_result",
          "data": {
            "text/plain": [
              "1"
            ]
          },
          "metadata": {
            "tags": []
          },
          "execution_count": 5
        }
      ]
    },
    {
      "cell_type": "code",
      "metadata": {
        "id": "QJhFwI9RAiNO",
        "colab_type": "code",
        "colab": {
          "base_uri": "https://localhost:8080/",
          "height": 35
        },
        "outputId": "d7b0b74f-f275-40ba-dc7c-696f707b0cb9"
      },
      "source": [
        "# scientific operation\n",
        "1.0e24/3."
      ],
      "execution_count": 6,
      "outputs": [
        {
          "output_type": "execute_result",
          "data": {
            "text/plain": [
              "3.333333333333333e+23"
            ]
          },
          "metadata": {
            "tags": []
          },
          "execution_count": 6
        }
      ]
    },
    {
      "cell_type": "code",
      "metadata": {
        "id": "lWR-hW7WAs9V",
        "colab_type": "code",
        "colab": {
          "base_uri": "https://localhost:8080/",
          "height": 35
        },
        "outputId": "5b31a438-8f8d-40a7-ca47-46be29721037"
      },
      "source": [
        "# more scientific operation\n",
        "(1.0e24/3. + 2.9e23)/1e-2"
      ],
      "execution_count": 7,
      "outputs": [
        {
          "output_type": "execute_result",
          "data": {
            "text/plain": [
              "6.233333333333333e+25"
            ]
          },
          "metadata": {
            "tags": []
          },
          "execution_count": 7
        }
      ]
    },
    {
      "cell_type": "markdown",
      "metadata": {
        "id": "9Vka3qfE1Gk8",
        "colab_type": "text"
      },
      "source": [
        "List and Dictionaries"
      ]
    },
    {
      "cell_type": "code",
      "metadata": {
        "id": "VVvav_6qAxsk",
        "colab_type": "code",
        "colab": {
          "base_uri": "https://localhost:8080/",
          "height": 35
        },
        "outputId": "bd56f9bb-6ba9-46b3-f2e2-ed28db3bbc25"
      },
      "source": [
        "#A list is declared using [] and may content different type of objects\n",
        "lista = ['abc', 42, 3.1415]\n",
        "print (lista)"
      ],
      "execution_count": 8,
      "outputs": [
        {
          "output_type": "stream",
          "text": [
            "['abc', 42, 3.1415]\n"
          ],
          "name": "stdout"
        }
      ]
    },
    {
      "cell_type": "code",
      "metadata": {
        "id": "6zfe21UvBYo_",
        "colab_type": "code",
        "colab": {}
      },
      "source": [
        "lista1 = [(2,3), (5,1),3**4]"
      ],
      "execution_count": 9,
      "outputs": []
    },
    {
      "cell_type": "code",
      "metadata": {
        "id": "TodAf5HKB5j-",
        "colab_type": "code",
        "colab": {
          "base_uri": "https://localhost:8080/",
          "height": 35
        },
        "outputId": "13c8e690-8160-4e71-d377-ddbc5a6261b5"
      },
      "source": [
        "print(lista1)"
      ],
      "execution_count": 10,
      "outputs": [
        {
          "output_type": "stream",
          "text": [
            "[(2, 3), (5, 1), 81]\n"
          ],
          "name": "stdout"
        }
      ]
    },
    {
      "cell_type": "code",
      "metadata": {
        "id": "-g4e5LKEB8bn",
        "colab_type": "code",
        "colab": {
          "base_uri": "https://localhost:8080/",
          "height": 35
        },
        "outputId": "621f3927-062b-41a0-8b5f-242920bfbfa3"
      },
      "source": [
        "# frist element of the list\n",
        "\n",
        "lista1[0]"
      ],
      "execution_count": 11,
      "outputs": [
        {
          "output_type": "execute_result",
          "data": {
            "text/plain": [
              "(2, 3)"
            ]
          },
          "metadata": {
            "tags": []
          },
          "execution_count": 11
        }
      ]
    },
    {
      "cell_type": "code",
      "metadata": {
        "id": "sAaWg8XTCKOw",
        "colab_type": "code",
        "colab": {
          "base_uri": "https://localhost:8080/",
          "height": 35
        },
        "outputId": "d50312ff-80f2-4478-d111-f37b3bdc4371"
      },
      "source": [
        "# last element of the list\n",
        "\n",
        "lista1[-1]"
      ],
      "execution_count": 12,
      "outputs": [
        {
          "output_type": "execute_result",
          "data": {
            "text/plain": [
              "81"
            ]
          },
          "metadata": {
            "tags": []
          },
          "execution_count": 12
        }
      ]
    },
    {
      "cell_type": "code",
      "metadata": {
        "id": "zNu8ilxNCP1a",
        "colab_type": "code",
        "colab": {
          "base_uri": "https://localhost:8080/",
          "height": 35
        },
        "outputId": "9ad75478-601c-4337-fc77-8bc063a915cd"
      },
      "source": [
        "lista1[1]"
      ],
      "execution_count": 13,
      "outputs": [
        {
          "output_type": "execute_result",
          "data": {
            "text/plain": [
              "(5, 1)"
            ]
          },
          "metadata": {
            "tags": []
          },
          "execution_count": 13
        }
      ]
    },
    {
      "cell_type": "code",
      "metadata": {
        "id": "lD2dBUzGCTxO",
        "colab_type": "code",
        "colab": {
          "base_uri": "https://localhost:8080/",
          "height": 35
        },
        "outputId": "267ac398-208a-4306-c749-c5e22cde58b6"
      },
      "source": [
        "lista1[2]"
      ],
      "execution_count": 14,
      "outputs": [
        {
          "output_type": "execute_result",
          "data": {
            "text/plain": [
              "81"
            ]
          },
          "metadata": {
            "tags": []
          },
          "execution_count": 14
        }
      ]
    },
    {
      "cell_type": "code",
      "metadata": {
        "id": "BbKIYzzSCWLp",
        "colab_type": "code",
        "colab": {}
      },
      "source": [
        "# adding a new element to the list\n",
        "\n",
        "lista1.append(345)\n"
      ],
      "execution_count": 15,
      "outputs": []
    },
    {
      "cell_type": "code",
      "metadata": {
        "id": "sFN7Kl9dDE0K",
        "colab_type": "code",
        "colab": {
          "base_uri": "https://localhost:8080/",
          "height": 35
        },
        "outputId": "ef641457-7196-42b3-95c0-8e9d470f09d2"
      },
      "source": [
        "lista1"
      ],
      "execution_count": 16,
      "outputs": [
        {
          "output_type": "execute_result",
          "data": {
            "text/plain": [
              "[(2, 3), (5, 1), 81, 345]"
            ]
          },
          "metadata": {
            "tags": []
          },
          "execution_count": 16
        }
      ]
    },
    {
      "cell_type": "code",
      "metadata": {
        "id": "qkHty7dyDHi5",
        "colab_type": "code",
        "colab": {}
      },
      "source": [
        "# insert an element with explicit position\n",
        "\n",
        "lista1.insert(2,'hello here')"
      ],
      "execution_count": 17,
      "outputs": []
    },
    {
      "cell_type": "code",
      "metadata": {
        "id": "hUL3anEvDiYL",
        "colab_type": "code",
        "colab": {
          "base_uri": "https://localhost:8080/",
          "height": 35
        },
        "outputId": "0bc9974e-3c0a-4be8-8f14-cef0c792b8a2"
      },
      "source": [
        "lista1"
      ],
      "execution_count": 18,
      "outputs": [
        {
          "output_type": "execute_result",
          "data": {
            "text/plain": [
              "[(2, 3), (5, 1), 'hello here', 81, 345]"
            ]
          },
          "metadata": {
            "tags": []
          },
          "execution_count": 18
        }
      ]
    },
    {
      "cell_type": "code",
      "metadata": {
        "id": "B5fwE1GQE4E5",
        "colab_type": "code",
        "colab": {}
      },
      "source": [
        "# Append an element in the last position of the list\n",
        "\n",
        "lista1.append([-1,1])"
      ],
      "execution_count": 19,
      "outputs": []
    },
    {
      "cell_type": "code",
      "metadata": {
        "id": "vZTv6bixFaG3",
        "colab_type": "code",
        "colab": {
          "base_uri": "https://localhost:8080/",
          "height": 35
        },
        "outputId": "27446059-63e3-4036-cdf8-eb24e1bc36d3"
      },
      "source": [
        "# show elemnts of the list\n",
        "\n",
        "lista1[0:6]"
      ],
      "execution_count": 20,
      "outputs": [
        {
          "output_type": "execute_result",
          "data": {
            "text/plain": [
              "[(2, 3), (5, 1), 'hello here', 81, 345, [-1, 1]]"
            ]
          },
          "metadata": {
            "tags": []
          },
          "execution_count": 20
        }
      ]
    },
    {
      "cell_type": "code",
      "metadata": {
        "id": "SWYi3MndGZ6Z",
        "colab_type": "code",
        "colab": {
          "base_uri": "https://localhost:8080/",
          "height": 35
        },
        "outputId": "82367602-9df7-44f1-d623-f9c8cd93ba65"
      },
      "source": [
        "# Print the first three elements\n",
        "\n",
        "lista1[::2]"
      ],
      "execution_count": 21,
      "outputs": [
        {
          "output_type": "execute_result",
          "data": {
            "text/plain": [
              "[(2, 3), 'hello here', 345]"
            ]
          },
          "metadata": {
            "tags": []
          },
          "execution_count": 21
        }
      ]
    },
    {
      "cell_type": "code",
      "metadata": {
        "id": "nzcg6w62HFao",
        "colab_type": "code",
        "colab": {
          "base_uri": "https://localhost:8080/",
          "height": 54
        },
        "outputId": "bb3993f6-77a4-4816-b252-eaa19a3e46d9"
      },
      "source": [
        "# Print an entry of the last element\n",
        "\n",
        "print(lista1[-1][0]) \n",
        "print(lista1[-1][1])\n"
      ],
      "execution_count": 22,
      "outputs": [
        {
          "output_type": "stream",
          "text": [
            "-1\n",
            "1\n"
          ],
          "name": "stdout"
        }
      ]
    },
    {
      "cell_type": "markdown",
      "metadata": {
        "id": "sEbUQYsh0ywl",
        "colab_type": "text"
      },
      "source": [
        "Bucles and Conditionals"
      ]
    },
    {
      "cell_type": "code",
      "metadata": {
        "id": "8JYQ0LstCZh2",
        "colab_type": "code",
        "colab": {
          "base_uri": "https://localhost:8080/",
          "height": 35
        },
        "outputId": "ac6dced5-5889-44f6-c25d-f4eed1906bef"
      },
      "source": [
        "# if conditional and else\n",
        "\n",
        "x = 4\n",
        "y = 3\n",
        "z = 6\n",
        "\n",
        "if x > 5 and y < 2 and z == 8:\n",
        "  print('True')\n",
        "else:\n",
        "  print('False')"
      ],
      "execution_count": 23,
      "outputs": [
        {
          "output_type": "stream",
          "text": [
            "False\n"
          ],
          "name": "stdout"
        }
      ]
    },
    {
      "cell_type": "code",
      "metadata": {
        "id": "_tJQ_EpoC9J9",
        "colab_type": "code",
        "colab": {
          "base_uri": "https://localhost:8080/",
          "height": 35
        },
        "outputId": "a48f7055-4f7c-4c87-f490-afc70971fae5"
      },
      "source": [
        "# using elif\n",
        "\n",
        "x = 4\n",
        "y = 3\n",
        "if x>5 or y<2:\n",
        "    print(\"True 1\")\n",
        "elif x==4:\n",
        "    print(\"True 2\")\n",
        "else:\n",
        "    print(\"False\")"
      ],
      "execution_count": 24,
      "outputs": [
        {
          "output_type": "stream",
          "text": [
            "True 2\n"
          ],
          "name": "stdout"
        }
      ]
    },
    {
      "cell_type": "code",
      "metadata": {
        "id": "zsu5OmYGHNb2",
        "colab_type": "code",
        "colab": {
          "base_uri": "https://localhost:8080/",
          "height": 146
        },
        "outputId": "7ceae077-2c13-484f-ef3d-193bc782c284"
      },
      "source": [
        "# for cycle\n",
        "\n",
        "for i in range(7):\n",
        "  print(i,i+i)"
      ],
      "execution_count": 25,
      "outputs": [
        {
          "output_type": "stream",
          "text": [
            "0 0\n",
            "1 2\n",
            "2 4\n",
            "3 6\n",
            "4 8\n",
            "5 10\n",
            "6 12\n"
          ],
          "name": "stdout"
        }
      ]
    },
    {
      "cell_type": "code",
      "metadata": {
        "id": "M1eqPj4nJz6I",
        "colab_type": "code",
        "colab": {
          "base_uri": "https://localhost:8080/",
          "height": 35
        },
        "outputId": "e4055f90-c97b-4568-a768-118e1cb8d733"
      },
      "source": [
        "# sums\n",
        "\n",
        "suma = 0\n",
        "\n",
        "for i in range(10):\n",
        "  suma += i\n",
        "\n",
        "print('The result is', suma)"
      ],
      "execution_count": 26,
      "outputs": [
        {
          "output_type": "stream",
          "text": [
            "The result is 45\n"
          ],
          "name": "stdout"
        }
      ]
    },
    {
      "cell_type": "code",
      "metadata": {
        "id": "VVSFChDaO7-5",
        "colab_type": "code",
        "colab": {
          "base_uri": "https://localhost:8080/",
          "height": 35
        },
        "outputId": "1d65f110-a10c-4ee7-d050-6d6feb0b9c85"
      },
      "source": [
        "1+2+3+4+5+6+7+8+9"
      ],
      "execution_count": 27,
      "outputs": [
        {
          "output_type": "execute_result",
          "data": {
            "text/plain": [
              "45"
            ]
          },
          "metadata": {
            "tags": []
          },
          "execution_count": 27
        }
      ]
    },
    {
      "cell_type": "code",
      "metadata": {
        "id": "TxEwFWkrTHbZ",
        "colab_type": "code",
        "colab": {
          "base_uri": "https://localhost:8080/",
          "height": 35
        },
        "outputId": "b5346e32-f07b-4ade-b2f3-1bb2a5054653"
      },
      "source": [
        "# print a seria into an array\n",
        "\n",
        "serie = [ i**2 for i in range(1,10) ]\n",
        "print( serie )"
      ],
      "execution_count": 28,
      "outputs": [
        {
          "output_type": "stream",
          "text": [
            "[1, 4, 9, 16, 25, 36, 49, 64, 81]\n"
          ],
          "name": "stdout"
        }
      ]
    },
    {
      "cell_type": "code",
      "metadata": {
        "id": "BsdbAQR7WFH3",
        "colab_type": "code",
        "colab": {
          "base_uri": "https://localhost:8080/",
          "height": 54
        },
        "outputId": "f5735f87-56d2-4913-bd3c-a3e55c5e6ee6"
      },
      "source": [
        "# while cycle with raw input\n",
        "\n",
        "#! /usr/bin/python\n",
        "number = int(input(\"Write a positive number: \"))\n",
        "while number < 0:\n",
        "    print(\"You wrote a negative number. Do it again\")\n",
        "    number= int(input(\"Write a positive number: \"))\n",
        "print(\"Thank you!\") "
      ],
      "execution_count": 29,
      "outputs": [
        {
          "output_type": "stream",
          "text": [
            "Write a positive number: 5\n",
            "Thank you!\n"
          ],
          "name": "stdout"
        }
      ]
    },
    {
      "cell_type": "code",
      "metadata": {
        "id": "rGTCGzTqZyK5",
        "colab_type": "code",
        "colab": {
          "base_uri": "https://localhost:8080/",
          "height": 127
        },
        "outputId": "2b853705-4740-4da0-ba2f-19e5e624e22d"
      },
      "source": [
        "# while with random numbers\n",
        "\n",
        "from numpy.random import random\n",
        "\n",
        "x = 0.63\n",
        "y = 0\n",
        "\n",
        "while y < x:\n",
        "  y = random()\n",
        "  print(y)\n",
        "print('The number is', y)\n"
      ],
      "execution_count": 30,
      "outputs": [
        {
          "output_type": "stream",
          "text": [
            "0.02443436084887851\n",
            "0.4239430323864023\n",
            "0.20188655899110852\n",
            "0.33301482155575857\n",
            "0.8548500399145494\n",
            "The number is 0.8548500399145494\n"
          ],
          "name": "stdout"
        }
      ]
    },
    {
      "cell_type": "markdown",
      "metadata": {
        "id": "oUlkz6ZQL7vM",
        "colab_type": "text"
      },
      "source": [
        "Functions"
      ]
    },
    {
      "cell_type": "code",
      "metadata": {
        "id": "U9C3Gz0gb2n7",
        "colab_type": "code",
        "colab": {}
      },
      "source": [
        "# How to bulid an explicit funtion\n",
        "\n",
        "def f(x,y):\n",
        "  return x*x + y*y"
      ],
      "execution_count": 31,
      "outputs": []
    },
    {
      "cell_type": "code",
      "metadata": {
        "id": "AWyHIxwVM6vg",
        "colab_type": "code",
        "colab": {
          "base_uri": "https://localhost:8080/",
          "height": 35
        },
        "outputId": "a157e48e-5180-4bb5-b91a-78bbdf2f5d59"
      },
      "source": [
        "f(2,3)"
      ],
      "execution_count": 32,
      "outputs": [
        {
          "output_type": "execute_result",
          "data": {
            "text/plain": [
              "13"
            ]
          },
          "metadata": {
            "tags": []
          },
          "execution_count": 32
        }
      ]
    },
    {
      "cell_type": "code",
      "metadata": {
        "id": "mkeYcb5eM8hK",
        "colab_type": "code",
        "colab": {
          "base_uri": "https://localhost:8080/",
          "height": 35
        },
        "outputId": "a1f78ce5-d390-4612-e54a-8ff7230b6fa0"
      },
      "source": [
        "# How to build an implicit function\n",
        "\n",
        "f = lambda x,y: x**y\n",
        "f(3,2)\n"
      ],
      "execution_count": 33,
      "outputs": [
        {
          "output_type": "execute_result",
          "data": {
            "text/plain": [
              "9"
            ]
          },
          "metadata": {
            "tags": []
          },
          "execution_count": 33
        }
      ]
    },
    {
      "cell_type": "code",
      "metadata": {
        "id": "TNeJuBR4PcCO",
        "colab_type": "code",
        "colab": {
          "base_uri": "https://localhost:8080/",
          "height": 35
        },
        "outputId": "f11b14ec-5ec7-4ee0-aa46-7a911c4ca621"
      },
      "source": [
        "f(3,2)"
      ],
      "execution_count": 34,
      "outputs": [
        {
          "output_type": "execute_result",
          "data": {
            "text/plain": [
              "9"
            ]
          },
          "metadata": {
            "tags": []
          },
          "execution_count": 34
        }
      ]
    },
    {
      "cell_type": "code",
      "metadata": {
        "id": "JOZ2zt1pQed5",
        "colab_type": "code",
        "colab": {
          "base_uri": "https://localhost:8080/",
          "height": 54
        },
        "outputId": "ccbe2fdb-6947-4ad5-f27c-10d316fa630d"
      },
      "source": [
        "#It is possible to pass functions as arguments of other function\n",
        "def f2( f, x ):\n",
        "    return f(x)**2\n",
        "\n",
        "#We can define a new function explicitly\n",
        "def f(x):\n",
        "    return x+2\n",
        "print (\"Explicit: f(2)^2 =\", f2(f,2))\n",
        "\n",
        "#Or define the function implicitly\n",
        "print (\"Implicit: f(2)^2 =\", f2(lambda x:x+2,2))"
      ],
      "execution_count": 35,
      "outputs": [
        {
          "output_type": "stream",
          "text": [
            "Explicit: f(2)^2 = 16\n",
            "Implicit: f(2)^2 = 16\n"
          ],
          "name": "stdout"
        }
      ]
    },
    {
      "cell_type": "markdown",
      "metadata": {
        "id": "G4bu68m5SmmE",
        "colab_type": "text"
      },
      "source": [
        "Basic scripting"
      ]
    },
    {
      "cell_type": "code",
      "metadata": {
        "id": "OzGl8DkmRGnU",
        "colab_type": "code",
        "colab": {
          "base_uri": "https://localhost:8080/",
          "height": 54
        },
        "outputId": "c23eb565-246b-4b27-c2c1-962ba7122450"
      },
      "source": [
        "# Example 1: sum of N numbers\n",
        "\n",
        "\n",
        "#! /usr/bin/python\n",
        "\n",
        "nun = int(input(\"Set number N: \"))\n",
        "\n",
        "tot = 0\n",
        "\n",
        "for i in range(nun):\n",
        "  tot += i\n",
        "\n",
        "print(\"The total sum is\", tot) "
      ],
      "execution_count": 36,
      "outputs": [
        {
          "output_type": "stream",
          "text": [
            "Set number N: 5\n",
            "The total sum is 10\n"
          ],
          "name": "stdout"
        }
      ]
    },
    {
      "cell_type": "code",
      "metadata": {
        "id": "-0P_lkORTeTf",
        "colab_type": "code",
        "colab": {
          "base_uri": "https://localhost:8080/",
          "height": 54
        },
        "outputId": "e544dfdd-8925-4c81-9474-a4e23aa0464c"
      },
      "source": [
        "# Example 2: sum of N numbers\n",
        "\n",
        "nn = [2,5,3,1,6,4,7,9]\n",
        "\n",
        "x = 0\n",
        "\n",
        "for i in range(len(nn)):\n",
        "  x += nn[i]\n",
        "\n",
        "print('The total sum is', x)\n",
        "print(sum(nn))"
      ],
      "execution_count": 37,
      "outputs": [
        {
          "output_type": "stream",
          "text": [
            "The total sum is 37\n",
            "37\n"
          ],
          "name": "stdout"
        }
      ]
    },
    {
      "cell_type": "code",
      "metadata": {
        "id": "YkOVwVAhVHB6",
        "colab_type": "code",
        "colab": {
          "base_uri": "https://localhost:8080/",
          "height": 54
        },
        "outputId": "5f9265c7-6c48-4bd6-c2ab-9d42b6e4b170"
      },
      "source": [
        "# How to calculate the execution time of a proceess\n",
        "\n",
        "from datetime import datetime\n",
        "start_time = datetime.now()\n",
        "\n",
        "print(sum(nn))\n",
        "\n",
        "end_time = datetime.now()\n",
        "print('Duration: {}'.format(end_time - start_time))"
      ],
      "execution_count": 38,
      "outputs": [
        {
          "output_type": "stream",
          "text": [
            "37\n",
            "Duration: 0:00:00.000143\n"
          ],
          "name": "stdout"
        }
      ]
    },
    {
      "cell_type": "code",
      "metadata": {
        "id": "45wCrwKGYTZE",
        "colab_type": "code",
        "colab": {
          "base_uri": "https://localhost:8080/",
          "height": 54
        },
        "outputId": "fa6499eb-1c8b-4fde-d31a-679a04d31ab6"
      },
      "source": [
        "# How to calculate the execution time of a proceess\n",
        "\n",
        "from datetime import datetime\n",
        "start_time = datetime.now()\n",
        "\n",
        "x= 0\n",
        "\n",
        "for i in range(len(nn)):\n",
        "  x += nn[i]\n",
        "\n",
        "print('The total sum is', x)\n",
        "\n",
        "end_time = datetime.now()\n",
        "print('Duration: {}'.format(end_time - start_time))"
      ],
      "execution_count": 39,
      "outputs": [
        {
          "output_type": "stream",
          "text": [
            "The total sum is 37\n",
            "Duration: 0:00:00.000596\n"
          ],
          "name": "stdout"
        }
      ]
    },
    {
      "cell_type": "code",
      "metadata": {
        "id": "OHgkY8E4YaYB",
        "colab_type": "code",
        "colab": {
          "base_uri": "https://localhost:8080/",
          "height": 55
        },
        "outputId": "dee19acd-3308-4d41-ba92-3896d167df1d"
      },
      "source": [
        "# Example 3: grid of a function \n",
        "\n",
        "\n",
        "#! /usr/bin/python\n",
        "\n",
        "import numpy as np\n",
        "\n",
        "r = []\n",
        "\n",
        "tt = [1,1.5,2,2.5,3,3.5,4,4.5]\n",
        "\n",
        "for i in tt:\n",
        "  r.append([0.5+i,i*np.sqrt(1+i*i)])\n",
        "\n",
        "print(r)"
      ],
      "execution_count": 40,
      "outputs": [
        {
          "output_type": "stream",
          "text": [
            "[[1.5, 1.4142135623730951], [2.0, 2.7041634565979917], [2.5, 4.47213595499958], [3.0, 6.73145600891813], [3.5, 9.486832980505138], [4.0, 12.740192306240907], [4.5, 16.492422502470642], [5.0, 20.743975028908995]]\n"
          ],
          "name": "stdout"
        }
      ]
    },
    {
      "cell_type": "code",
      "metadata": {
        "id": "Wk7l5f1ubbQe",
        "colab_type": "code",
        "colab": {
          "base_uri": "https://localhost:8080/",
          "height": 302
        },
        "outputId": "9c009219-e50b-4312-ece3-668152632cbf"
      },
      "source": [
        "import matplotlib.pyplot as plt\n",
        "\n",
        "plt.plot(r)"
      ],
      "execution_count": 41,
      "outputs": [
        {
          "output_type": "execute_result",
          "data": {
            "text/plain": [
              "[<matplotlib.lines.Line2D at 0x7f0966b08588>,\n",
              " <matplotlib.lines.Line2D at 0x7f0966b086a0>]"
            ]
          },
          "metadata": {
            "tags": []
          },
          "execution_count": 41
        },
        {
          "output_type": "display_data",
          "data": {
            "image/png": "[encoded data removed]",
            "text/plain": [
              "<Figure size 432x288 with 1 Axes>"
            ]
          },
          "metadata": {
            "tags": [],
            "needs_background": "light"
          }
        }
      ]
    },
    {
      "cell_type": "code",
      "metadata": {
        "id": "AHnUw0ZDeZRk",
        "colab_type": "code",
        "colab": {}
      },
      "source": [
        "tr = np.arange(1,5,0.5)"
      ],
      "execution_count": 42,
      "outputs": []
    },
    {
      "cell_type": "code",
      "metadata": {
        "id": "bZsyxUWSfutp",
        "colab_type": "code",
        "colab": {
          "base_uri": "https://localhost:8080/",
          "height": 35
        },
        "outputId": "ff871c57-26b8-4818-a7f4-f098e089d905"
      },
      "source": [
        "tr"
      ],
      "execution_count": 43,
      "outputs": [
        {
          "output_type": "execute_result",
          "data": {
            "text/plain": [
              "array([1. , 1.5, 2. , 2.5, 3. , 3.5, 4. , 4.5])"
            ]
          },
          "metadata": {
            "tags": []
          },
          "execution_count": 43
        }
      ]
    },
    {
      "cell_type": "code",
      "metadata": {
        "id": "itXvl37FgFWG",
        "colab_type": "code",
        "colab": {}
      },
      "source": [
        "# Example 4: sort a list o numbers\n",
        "\n",
        "def sorti(b):\n",
        "\n",
        "  a=list(b)\n",
        "\n",
        "  nt = []\n",
        "\n",
        "  i = 0\n",
        "\n",
        "  lo = a[0]\n",
        "  print(a)\n",
        "\n",
        "  while len(a) > 0:\n",
        "    if a[i] < lo:\n",
        "      lo = a[i]\n",
        "    i += 1\n",
        "    if i == len(a):\n",
        "      nt.append(lo)\n",
        "      a.remove(lo)\n",
        "      if a:\n",
        "        lo = a[0]\n",
        "      i=0\n",
        "\n",
        "  print(nt)"
      ],
      "execution_count": 44,
      "outputs": []
    },
    {
      "cell_type": "code",
      "metadata": {
        "id": "_V9DJt07isb_",
        "colab_type": "code",
        "colab": {}
      },
      "source": [
        "x=15*np.random.random(4)\n"
      ],
      "execution_count": 45,
      "outputs": []
    },
    {
      "cell_type": "code",
      "metadata": {
        "id": "ybC5YQ7ukb_q",
        "colab_type": "code",
        "colab": {
          "base_uri": "https://localhost:8080/",
          "height": 54
        },
        "outputId": "4316b1d7-674c-4b58-9808-8313c7494eee"
      },
      "source": [
        "sorti(x)"
      ],
      "execution_count": 46,
      "outputs": [
        {
          "output_type": "stream",
          "text": [
            "[2.1384615135351726, 1.7740243945346434, 10.76909429394747, 2.0853591369887248]\n",
            "[1.7740243945346434, 2.0853591369887248, 2.1384615135351726, 10.76909429394747]\n"
          ],
          "name": "stdout"
        }
      ]
    },
    {
      "cell_type": "code",
      "metadata": {
        "id": "vRLau34DuNm4",
        "colab_type": "code",
        "colab": {
          "base_uri": "https://localhost:8080/",
          "height": 72
        },
        "outputId": "b34089fc-64ae-4f9c-fdef-a5d6ea0a3212"
      },
      "source": [
        "# Example 5: create a list \n",
        "\n",
        "y = 10*np.random.random(10)\n",
        "\n",
        "m = np.mean(y)\n",
        "yv = []\n",
        "\n",
        "for i in y:\n",
        "  if i > m:\n",
        "    yv.append(i)\n",
        "\n",
        "print(y)\n",
        "print(yv)\n",
        "\n"
      ],
      "execution_count": 47,
      "outputs": [
        {
          "output_type": "stream",
          "text": [
            "[8.28771992 8.93627842 9.89628316 5.5823781  5.81609063 4.7696823\n",
            " 1.74923981 3.97366618 0.24027382 1.66351644]\n",
            "[8.287719918104496, 8.93627841723333, 9.89628316066852, 5.582378102920222, 5.816090632695338]\n"
          ],
          "name": "stdout"
        }
      ]
    },
    {
      "cell_type": "code",
      "metadata": {
        "id": "nSQjH2W25GM2",
        "colab_type": "code",
        "colab": {}
      },
      "source": [
        "yvv = y[y>=m]"
      ],
      "execution_count": 48,
      "outputs": []
    },
    {
      "cell_type": "code",
      "metadata": {
        "id": "1I1RC3NW5iTr",
        "colab_type": "code",
        "colab": {
          "base_uri": "https://localhost:8080/",
          "height": 35
        },
        "outputId": "59e062c5-5b13-4594-cac4-b4914e1e58af"
      },
      "source": [
        "print(yvv)"
      ],
      "execution_count": 49,
      "outputs": [
        {
          "output_type": "stream",
          "text": [
            "[8.28771992 8.93627842 9.89628316 5.5823781  5.81609063]\n"
          ],
          "name": "stdout"
        }
      ]
    },
    {
      "cell_type": "code",
      "metadata": {
        "id": "aP1HdfkX9DFo",
        "colab_type": "code",
        "colab": {}
      },
      "source": [
        "# Example 6 Write a program that gives the name of students who passed a course (grade≥3.0   over 5.0  ).\n",
        "\n",
        "# All students\n",
        "grades = {\"Juanito\":2.5, \"Pepito\":4.8, \"Carlitos\":3.0, \"Maria\":3.9, \"Pepita\":4.6, \"Anita\":1.9, \"Bertulfo\":0.9}"
      ],
      "execution_count": 50,
      "outputs": []
    },
    {
      "cell_type": "code",
      "metadata": {
        "id": "OOdt7mrdSsZ6",
        "colab_type": "code",
        "colab": {
          "base_uri": "https://localhost:8080/",
          "height": 35
        },
        "outputId": "7f2d5677-54bf-4f7e-a00b-48cf250e539a"
      },
      "source": [
        "type(grades)"
      ],
      "execution_count": 51,
      "outputs": [
        {
          "output_type": "execute_result",
          "data": {
            "text/plain": [
              "dict"
            ]
          },
          "metadata": {
            "tags": []
          },
          "execution_count": 51
        }
      ]
    },
    {
      "cell_type": "code",
      "metadata": {
        "id": "Pe9hQdqnSwQu",
        "colab_type": "code",
        "colab": {
          "base_uri": "https://localhost:8080/",
          "height": 35
        },
        "outputId": "28a71a6d-764d-4a85-f021-34e025b0c3dc"
      },
      "source": [
        "grades.values()"
      ],
      "execution_count": 52,
      "outputs": [
        {
          "output_type": "execute_result",
          "data": {
            "text/plain": [
              "dict_values([2.5, 4.8, 3.0, 3.9, 4.6, 1.9, 0.9])"
            ]
          },
          "metadata": {
            "tags": []
          },
          "execution_count": 52
        }
      ]
    },
    {
      "cell_type": "code",
      "metadata": {
        "id": "GYckJX-KXQ7u",
        "colab_type": "code",
        "colab": {
          "base_uri": "https://localhost:8080/",
          "height": 127
        },
        "outputId": "8a45f132-20e6-40f3-fb74-e00e445f4307"
      },
      "source": [
        "print(grades)\n",
        "print('The students who passed the course are:')\n",
        "\n",
        "j= 0\n",
        "\n",
        "for i in grades.values():\n",
        "  if i >= 3.0:\n",
        "    j+=1\n",
        "    print(list(grades.keys())[j],':',list(grades.values())[j])\n",
        "  "
      ],
      "execution_count": 53,
      "outputs": [
        {
          "output_type": "stream",
          "text": [
            "{'Juanito': 2.5, 'Pepito': 4.8, 'Carlitos': 3.0, 'Maria': 3.9, 'Pepita': 4.6, 'Anita': 1.9, 'Bertulfo': 0.9}\n",
            "The students who passed the course are:\n",
            "Pepito : 4.8\n",
            "Carlitos : 3.0\n",
            "Maria : 3.9\n",
            "Pepita : 4.6\n"
          ],
          "name": "stdout"
        }
      ]
    },
    {
      "cell_type": "code",
      "metadata": {
        "id": "4G-qo1pPaKWK",
        "colab_type": "code",
        "colab": {
          "base_uri": "https://localhost:8080/",
          "height": 36
        },
        "outputId": "f7333806-fe97-4201-d602-7d9542dede26"
      },
      "source": [
        "list(grades.keys())[2]"
      ],
      "execution_count": 54,
      "outputs": [
        {
          "output_type": "execute_result",
          "data": {
            "application/vnd.google.colaboratory.intrinsic": {
              "type": "string"
            },
            "text/plain": [
              "'Carlitos'"
            ]
          },
          "metadata": {
            "tags": []
          },
          "execution_count": 54
        }
      ]
    },
    {
      "cell_type": "code",
      "metadata": {
        "id": "tKI8-tkJd9t8",
        "colab_type": "code",
        "colab": {
          "base_uri": "https://localhost:8080/",
          "height": 35
        },
        "outputId": "4951d711-8e01-422c-fec9-14b3bb2a6202"
      },
      "source": [
        "print(list(grades.keys())[2],':',list(grades.values())[2])"
      ],
      "execution_count": 55,
      "outputs": [
        {
          "output_type": "stream",
          "text": [
            "Carlitos : 3.0\n"
          ],
          "name": "stdout"
        }
      ]
    },
    {
      "cell_type": "code",
      "metadata": {
        "id": "mBIYRyzvfJtz",
        "colab_type": "code",
        "colab": {
          "base_uri": "https://localhost:8080/",
          "height": 35
        },
        "outputId": "a4fd5446-6192-4d7a-a5f6-d18f7d56c69a"
      },
      "source": [
        "len(grades)"
      ],
      "execution_count": 56,
      "outputs": [
        {
          "output_type": "execute_result",
          "data": {
            "text/plain": [
              "7"
            ]
          },
          "metadata": {
            "tags": []
          },
          "execution_count": 56
        }
      ]
    },
    {
      "cell_type": "code",
      "metadata": {
        "id": "J_RSFHidfM7o",
        "colab_type": "code",
        "colab": {
          "base_uri": "https://localhost:8080/",
          "height": 35
        },
        "outputId": "e0458aa7-ad56-4459-cebf-6434cd216a2e"
      },
      "source": [
        "list(grades)"
      ],
      "execution_count": 57,
      "outputs": [
        {
          "output_type": "execute_result",
          "data": {
            "text/plain": [
              "['Juanito', 'Pepito', 'Carlitos', 'Maria', 'Pepita', 'Anita', 'Bertulfo']"
            ]
          },
          "metadata": {
            "tags": []
          },
          "execution_count": 57
        }
      ]
    },
    {
      "cell_type": "code",
      "metadata": {
        "id": "L6Vrau-IiPqL",
        "colab_type": "code",
        "colab": {}
      },
      "source": [
        "# Example 7:  Write a program that evaluates the next expression for given values of x, a and b\n",
        "\n",
        "import math"
      ],
      "execution_count": 58,
      "outputs": []
    },
    {
      "cell_type": "code",
      "metadata": {
        "id": "OKwY3nNDrHqk",
        "colab_type": "code",
        "colab": {
          "base_uri": "https://localhost:8080/",
          "height": 35
        },
        "outputId": "1911ac64-f615-40ae-d7fb-f2aebf73e47d"
      },
      "source": [
        "math.sin(np.pi/2)"
      ],
      "execution_count": 59,
      "outputs": [
        {
          "output_type": "execute_result",
          "data": {
            "text/plain": [
              "1.0"
            ]
          },
          "metadata": {
            "tags": []
          },
          "execution_count": 59
        }
      ]
    },
    {
      "cell_type": "code",
      "metadata": {
        "id": "_T95GQVDreg0",
        "colab_type": "code",
        "colab": {}
      },
      "source": [
        "def grad_to_rad(a):\n",
        "  return a*(np.pi/180)"
      ],
      "execution_count": 60,
      "outputs": []
    },
    {
      "cell_type": "code",
      "metadata": {
        "id": "tgXPaT99sBdr",
        "colab_type": "code",
        "colab": {
          "base_uri": "https://localhost:8080/",
          "height": 35
        },
        "outputId": "61ab8482-f98c-4c32-ef68-8663a2729505"
      },
      "source": [
        "grad_to_rad(90)"
      ],
      "execution_count": 61,
      "outputs": [
        {
          "output_type": "execute_result",
          "data": {
            "text/plain": [
              "1.5707963267948966"
            ]
          },
          "metadata": {
            "tags": []
          },
          "execution_count": 61
        }
      ]
    },
    {
      "cell_type": "code",
      "metadata": {
        "id": "5YW7jBDRsE0G",
        "colab_type": "code",
        "colab": {
          "base_uri": "https://localhost:8080/",
          "height": 35
        },
        "outputId": "c70c0ab9-db15-4fad-c1d2-5444b4776321"
      },
      "source": [
        "np.pi/2"
      ],
      "execution_count": 62,
      "outputs": [
        {
          "output_type": "execute_result",
          "data": {
            "text/plain": [
              "1.5707963267948966"
            ]
          },
          "metadata": {
            "tags": []
          },
          "execution_count": 62
        }
      ]
    },
    {
      "cell_type": "code",
      "metadata": {
        "id": "5oiDT1zHsIzI",
        "colab_type": "code",
        "colab": {}
      },
      "source": [
        "def fun1(x,a,b):\n",
        "\n",
        "  ang_rad = grad_to_rad(x)\n",
        "\n",
        "  f = 0.5*(math.sin(ang_rad)+math.cos(ang_rad))*(a+b) \n",
        "\n",
        "  return f"
      ],
      "execution_count": 63,
      "outputs": []
    },
    {
      "cell_type": "code",
      "metadata": {
        "id": "k-795wxPtiEe",
        "colab_type": "code",
        "colab": {
          "base_uri": "https://localhost:8080/",
          "height": 54
        },
        "outputId": "bc713d00-35d9-4b8b-fc25-1cb1a5898731"
      },
      "source": [
        "%%timeit\n",
        "\n",
        "fun1(180,3.2,5.6)"
      ],
      "execution_count": 64,
      "outputs": [
        {
          "output_type": "stream",
          "text": [
            "The slowest run took 12.16 times longer than the fastest. This could mean that an intermediate result is being cached.\n",
            "1000000 loops, best of 3: 808 ns per loop\n"
          ],
          "name": "stdout"
        }
      ]
    },
    {
      "cell_type": "code",
      "metadata": {
        "id": "T1BgVmD6tmNU",
        "colab_type": "code",
        "colab": {
          "base_uri": "https://localhost:8080/",
          "height": 54
        },
        "outputId": "afcb3a12-b8cd-421e-c1e0-77085dd7760e"
      },
      "source": [
        "%%timeit\n",
        "\n",
        "0.5*(math.sin(np.pi)+math.cos(np.pi))*(3.2+5.6) "
      ],
      "execution_count": 65,
      "outputs": [
        {
          "output_type": "stream",
          "text": [
            "The slowest run took 12.00 times longer than the fastest. This could mean that an intermediate result is being cached.\n",
            "1000000 loops, best of 3: 580 ns per loop\n"
          ],
          "name": "stdout"
        }
      ]
    },
    {
      "cell_type": "code",
      "metadata": {
        "id": "X2zI6V7itwto",
        "colab_type": "code",
        "colab": {}
      },
      "source": [
        "# Example 8: Find all the prime numbers between 1 and 100.\n",
        "\n",
        "em = list(range(101))\n",
        "del em[0]"
      ],
      "execution_count": 66,
      "outputs": []
    },
    {
      "cell_type": "code",
      "metadata": {
        "id": "fWe_6t9S5hc5",
        "colab_type": "code",
        "colab": {
          "base_uri": "https://localhost:8080/",
          "height": 55
        },
        "outputId": "5c3afcc8-dc66-4c9d-95c5-0faf0c175a88"
      },
      "source": [
        "print(em)"
      ],
      "execution_count": 67,
      "outputs": [
        {
          "output_type": "stream",
          "text": [
            "[1, 2, 3, 4, 5, 6, 7, 8, 9, 10, 11, 12, 13, 14, 15, 16, 17, 18, 19, 20, 21, 22, 23, 24, 25, 26, 27, 28, 29, 30, 31, 32, 33, 34, 35, 36, 37, 38, 39, 40, 41, 42, 43, 44, 45, 46, 47, 48, 49, 50, 51, 52, 53, 54, 55, 56, 57, 58, 59, 60, 61, 62, 63, 64, 65, 66, 67, 68, 69, 70, 71, 72, 73, 74, 75, 76, 77, 78, 79, 80, 81, 82, 83, 84, 85, 86, 87, 88, 89, 90, 91, 92, 93, 94, 95, 96, 97, 98, 99, 100]\n"
          ],
          "name": "stdout"
        }
      ]
    },
    {
      "cell_type": "code",
      "metadata": {
        "id": "g1f18CK87OZW",
        "colab_type": "code",
        "colab": {
          "base_uri": "https://localhost:8080/",
          "height": 72
        },
        "outputId": "167442e4-d16c-4bb0-a8b0-b9e6479773ab"
      },
      "source": [
        "xx = np.arange(3,101,2)\n",
        "print(xx)"
      ],
      "execution_count": 69,
      "outputs": [
        {
          "output_type": "stream",
          "text": [
            "[ 3  5  7  9 11 13 15 17 19 21 23 25 27 29 31 33 35 37 39 41 43 45 47 49\n",
            " 51 53 55 57 59 61 63 65 67 69 71 73 75 77 79 81 83 85 87 89 91 93 95 97\n",
            " 99]\n"
          ],
          "name": "stdout"
        }
      ]
    },
    {
      "cell_type": "code",
      "metadata": {
        "id": "oLZehXmr-ELF",
        "colab_type": "code",
        "colab": {}
      },
      "source": [
        ""
      ],
      "execution_count": null,
      "outputs": []
    },
    {
      "cell_type": "code",
      "metadata": {
        "id": "pcXK_bgA-Gv1",
        "colab_type": "code",
        "colab": {
          "base_uri": "https://localhost:8080/",
          "height": 35
        },
        "outputId": "00b99630-c8fa-4b98-9da2-b3025091f501"
      },
      "source": [
        "# Example 8: Write a program that calculates the factorial of a given number.\n",
        "\n",
        "#! /usr/bin/python\n",
        "\n",
        "#Factorial function\n",
        "def factorial(N):\n",
        "    if N==1:\n",
        "        return 1\n",
        "    else:\n",
        "        return N*factorial(N-1)\n",
        "    \n",
        "print (\"The factorial of %d is %d\"%(3, factorial(3)))\n",
        "\n"
      ],
      "execution_count": 74,
      "outputs": [
        {
          "output_type": "stream",
          "text": [
            "The factorial of 3 is 6\n"
          ],
          "name": "stdout"
        }
      ]
    },
    {
      "cell_type": "code",
      "metadata": {
        "id": "DVYUxOpDaJvA",
        "colab_type": "code",
        "colab": {}
      },
      "source": [
        "# Example 9:  Write a program that evaluates the cos(x)   function by using the Taylor expansion using 2, 5 and 10 terms.\n",
        "\n",
        "def exp_cos(x,n):\n",
        "  a = (-1)**n/(math.factorial(2*n))*x**(2*n)\n",
        "  return a"
      ],
      "execution_count": 113,
      "outputs": []
    },
    {
      "cell_type": "code",
      "metadata": {
        "id": "8xqcGqpaseZN",
        "colab_type": "code",
        "colab": {
          "base_uri": "https://localhost:8080/",
          "height": 90
        },
        "outputId": "2052db1d-4275-4dae-b3c4-5ac148cd65dc"
      },
      "source": [
        "terms = [2,5,10]\n",
        "\n",
        "sumterm = []\n",
        "\n",
        "ang=0.5\n",
        "\n",
        "for i in terms:\n",
        "  x=0\n",
        "  subsum = range(0,i,1)\n",
        "  for j in subsum:\n",
        "    x+= exp_cos(ang,j)\n",
        "  sumterm.append([i,x])\n",
        "\n",
        "for i in sumterm:\n",
        "  print(\"Taylor expansion of cos(%1.2f) for %d terms: %1.6f\"%(ang,i[0],i[1] ))\n",
        "\n",
        "print(\"Exact value of cos(%1.2f): %1.6f\"%( ang, math.cos(ang)))\n"
      ],
      "execution_count": 151,
      "outputs": [
        {
          "output_type": "stream",
          "text": [
            "Taylor expansion of cos(0.50) for 2 terms: 0.875000\n",
            "Taylor expansion of cos(0.50) for 5 terms: 0.877583\n",
            "Taylor expansion of cos(0.50) for 10 terms: 0.877583\n",
            "Exact value of cos(0.50): 0.877583\n"
          ],
          "name": "stdout"
        }
      ]
    },
    {
      "cell_type": "code",
      "metadata": {
        "id": "bAsrlq1ct_JS",
        "colab_type": "code",
        "colab": {
          "base_uri": "https://localhost:8080/",
          "height": 35
        },
        "outputId": "58077cf2-befc-4c3b-a79e-c7a1a7d69b98"
      },
      "source": [
        "np.pi"
      ],
      "execution_count": 152,
      "outputs": [
        {
          "output_type": "execute_result",
          "data": {
            "text/plain": [
              "3.141592653589793"
            ]
          },
          "metadata": {
            "tags": []
          },
          "execution_count": 152
        }
      ]
    },
    {
      "cell_type": "code",
      "metadata": {
        "id": "l0qBYbZlzctv",
        "colab_type": "code",
        "colab": {
          "base_uri": "https://localhost:8080/",
          "height": 35
        },
        "outputId": "09c1ec47-54fa-434e-8ec7-c6dbcf194b2c"
      },
      "source": [
        "4-(4/3)+(4/5)-(4/7)+(4/9)-(4/11)+(4/13)"
      ],
      "execution_count": 156,
      "outputs": [
        {
          "output_type": "execute_result",
          "data": {
            "text/plain": [
              "3.2837384837384844"
            ]
          },
          "metadata": {
            "tags": []
          },
          "execution_count": 156
        }
      ]
    },
    {
      "cell_type": "code",
      "metadata": {
        "id": "KWAEb-CV8bAu",
        "colab_type": "code",
        "colab": {
          "base_uri": "https://localhost:8080/",
          "height": 54
        },
        "outputId": "854e612d-2aee-4ab0-d98e-eadc48652cf1"
      },
      "source": [
        "# Example 2: sum of N numbers\n",
        "\n",
        "nn = [2,5,3,1,6,4,7,9]\n",
        "\n",
        "x = 1\n",
        "\n",
        "for i in range(len(nn)):\n",
        "  x *= nn[i]\n",
        "\n",
        "print('The total product is', x)\n",
        "print(sum(nn))"
      ],
      "execution_count": 158,
      "outputs": [
        {
          "output_type": "stream",
          "text": [
            "The total product is 45360\n",
            "37\n"
          ],
          "name": "stdout"
        }
      ]
    },
    {
      "cell_type": "code",
      "metadata": {
        "id": "ihLdZ1PkLTON",
        "colab_type": "code",
        "colab": {
          "base_uri": "https://localhost:8080/",
          "height": 35
        },
        "outputId": "b14ac233-b477-461f-c354-47b2548e270b"
      },
      "source": [
        "2*5*3*1*6*4*7*9"
      ],
      "execution_count": 159,
      "outputs": [
        {
          "output_type": "execute_result",
          "data": {
            "text/plain": [
              "45360"
            ]
          },
          "metadata": {
            "tags": []
          },
          "execution_count": 159
        }
      ]
    },
    {
      "cell_type": "markdown",
      "metadata": {
        "id": "1Bv8tIny2GVM",
        "colab_type": "text"
      },
      "source": [
        "Pi approximation"
      ]
    },
    {
      "cell_type": "code",
      "metadata": {
        "id": "OWV6o8X9LfLo",
        "colab_type": "code",
        "colab": {
          "base_uri": "https://localhost:8080/",
          "height": 54
        },
        "outputId": "cc949207-263d-4944-f101-ae2989c5e917"
      },
      "source": [
        "\n",
        "iterations = 100\n",
        "numerator = 0.0\n",
        "pi = 1.0\n",
        "\n",
        "for i in range(1, iterations + 1):\n",
        "  numerator = math.sqrt(2.0 + numerator)\n",
        "  pi*= (numerator / 2.0)\n",
        "  \n",
        "pi = (1.0 / pi) * 2.0\n",
        "\n",
        "print(pi)\n",
        "print(math.pi)"
      ],
      "execution_count": 215,
      "outputs": [
        {
          "output_type": "stream",
          "text": [
            "3.141592653589794\n",
            "3.141592653589793\n"
          ],
          "name": "stdout"
        }
      ]
    },
    {
      "cell_type": "code",
      "metadata": {
        "id": "x8mkqjcuQ7m6",
        "colab_type": "code",
        "colab": {
          "base_uri": "https://localhost:8080/",
          "height": 54
        },
        "outputId": "bcb4ae2c-7929-48dd-fa0c-7644023f5721"
      },
      "source": [
        "pir=4.0\n",
        "\n",
        "iterations = 100\n",
        "\n",
        "numerator = 0.0\n",
        "\n",
        "\n",
        "for i in range(1,iterations+1,1):\n",
        "  factor = (-1)**i/(2*i+1)*4\n",
        "  pir+= factor\n",
        "\n",
        "\n",
        "print(pir)\n",
        "print(math.pi)"
      ],
      "execution_count": 216,
      "outputs": [
        {
          "output_type": "stream",
          "text": [
            "3.1514934010709914\n",
            "3.141592653589793\n"
          ],
          "name": "stdout"
        }
      ]
    },
    {
      "cell_type": "code",
      "metadata": {
        "id": "QEq4Nj5dnUj0",
        "colab_type": "code",
        "colab": {}
      },
      "source": [
        "def print_as_text(pi):\n",
        "\n",
        "    \"\"\"\n",
        "    Takes a value for pi and prints it below a definitive value,\n",
        "    with matching digits in green and non-matching digits in red\n",
        "    \"\"\"\n",
        "\n",
        "    pi_string = str(\"%1.18f\" % pi)\n",
        "\n",
        "    print(\"Definitive: \" + PI_STRING)\n",
        "\n",
        "    print(\"Estimated:  \", end=\"\")\n",
        "\n",
        "    for i in range(0, len(pi_string)):\n",
        "\n",
        "        if pi_string[i] == PI_STRING[i]:\n",
        "\n",
        "            print(GREEN +  pi_string[i] + RESET, end=\"\")\n",
        "\n",
        "        else:\n",
        "\n",
        "            print(RED +  pi_string[i] + RESET, end=\"\")\n",
        "\n",
        "    #print(\"\\n\")"
      ],
      "execution_count": 221,
      "outputs": []
    },
    {
      "cell_type": "code",
      "metadata": {
        "id": "cvmr8pdcvKk-",
        "colab_type": "code",
        "colab": {
          "base_uri": "https://localhost:8080/",
          "height": 146
        },
        "outputId": "d15ab35e-dcec-4878-8d8a-3094988fa81e"
      },
      "source": [
        "PI_STRING = \"3.141592653589793238\"\n",
        "RED = \"\\x1B[31m\"\n",
        "GREEN = \"\\x1B[32m\"\n",
        "RESET = \"\\x1B[0m\"\n",
        "\n",
        "\n",
        "print('Using Francois Viete approximation:')\n",
        "print_as_text(pi)\n",
        "print('\\n===========')\n",
        "print('Using Gregory-Leibniz approximation:')\n",
        "print_as_text(pir)"
      ],
      "execution_count": 225,
      "outputs": [
        {
          "output_type": "stream",
          "text": [
            "Using Francois Viete approximation:\n",
            "Definitive: 3.141592653589793238\n",
            "Estimated:  \u001b[32m3\u001b[0m\u001b[32m.\u001b[0m\u001b[32m1\u001b[0m\u001b[32m4\u001b[0m\u001b[32m1\u001b[0m\u001b[32m5\u001b[0m\u001b[32m9\u001b[0m\u001b[32m2\u001b[0m\u001b[32m6\u001b[0m\u001b[32m5\u001b[0m\u001b[32m3\u001b[0m\u001b[32m5\u001b[0m\u001b[32m8\u001b[0m\u001b[32m9\u001b[0m\u001b[32m7\u001b[0m\u001b[32m9\u001b[0m\u001b[31m4\u001b[0m\u001b[31m0\u001b[0m\u001b[31m0\u001b[0m\u001b[31m4\u001b[0m\n",
            "===========\n",
            "Using Gregory-Leibniz approximation:\n",
            "Definitive: 3.141592653589793238\n",
            "Estimated:  \u001b[32m3\u001b[0m\u001b[32m.\u001b[0m\u001b[32m1\u001b[0m\u001b[31m5\u001b[0m\u001b[32m1\u001b[0m\u001b[31m4\u001b[0m\u001b[32m9\u001b[0m\u001b[31m3\u001b[0m\u001b[31m4\u001b[0m\u001b[31m0\u001b[0m\u001b[31m1\u001b[0m\u001b[31m0\u001b[0m\u001b[31m7\u001b[0m\u001b[31m0\u001b[0m\u001b[31m9\u001b[0m\u001b[32m9\u001b[0m\u001b[31m1\u001b[0m\u001b[31m4\u001b[0m\u001b[31m0\u001b[0m\u001b[31m7\u001b[0m"
          ],
          "name": "stdout"
        }
      ]
    },
    {
      "cell_type": "code",
      "metadata": {
        "id": "vRmepiZivWDu",
        "colab_type": "code",
        "colab": {}
      },
      "source": [
        ""
      ],
      "execution_count": null,
      "outputs": []
    }
  ]
}